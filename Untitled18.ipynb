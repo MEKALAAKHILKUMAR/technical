{
 "cells": [
  {
   "cell_type": "markdown",
   "id": "d9f0a4ba",
   "metadata": {},
   "source": [
    "# You will have a number of elements and in the next n lines element of a list. You have to create a list from the given strings. You have to sort the list based on 2nd last character of a string.\n"
   ]
  },
  {
   "cell_type": "code",
   "execution_count": 11,
   "id": "f7a3fc34",
   "metadata": {},
   "outputs": [
    {
     "name": "stdout",
     "output_type": "stream",
     "text": [
      "4\n",
      "great\n",
      "hello\n",
      "hiyo\n",
      "abc\n",
      "['great', 'hello', 'hiyo', 'abc']\n",
      "After sorting :  ['great', 'abc', 'hello', 'hiyo']\n"
     ]
    }
   ],
   "source": [
    "\n",
    "n = int(input()) \n",
    "my_list = []  \n",
    "\n",
    "for i in range(n):\n",
    "    my_list.append(input())\n",
    "    \n",
    "print(my_list)\n",
    "sorted_list = sorted(my_list, key=lambda x: x[-2])\n",
    "print(\"After sorting : \",sorted_list)\n"
   ]
  },
  {
   "cell_type": "code",
   "execution_count": null,
   "id": "39dae373",
   "metadata": {},
   "outputs": [],
   "source": []
  },
  {
   "cell_type": "markdown",
   "id": "c55b2d0c",
   "metadata": {},
   "source": [
    "# Your task is to complete the validate_triangle and validate_rectangle functions for the classes. "
   ]
  },
  {
   "cell_type": "code",
   "execution_count": 8,
   "id": "0eb1d6b2",
   "metadata": {},
   "outputs": [
    {
     "name": "stdout",
     "output_type": "stream",
     "text": [
      "3 4 5\n",
      "2 4 2 4\n",
      "Valid Triangle\n",
      "Valid Rectangle\n"
     ]
    }
   ],
   "source": [
    "\n",
    "\n",
    "class Shape:\n",
    "    def __init__(self, sides):\n",
    "        self.sides = sides\n",
    "\n",
    "class Triangle(Shape):\n",
    "    def __init__(self, sides):\n",
    "        super().__init__(sides)\n",
    "\n",
    "    def validate_triangle(self):\n",
    "        a, b, c = self.sides\n",
    "        if a + b > c and b + c > a and c + a > b:\n",
    "            print(\"Valid Triangle\")\n",
    "        else:\n",
    "            print(\"Invalid Triangle\")\n",
    "\n",
    "class Rectangle(Shape):\n",
    "    def __init__(self, sides):\n",
    "        super().__init__(sides)\n",
    "\n",
    "    def validate_rectangle(self):\n",
    "        a, b, c, d = self.sides\n",
    "        if a == c and b == d:\n",
    "            print(\"Valid Rectangle\")\n",
    "        elif a == b and c == d:\n",
    "            print(\"Valid Rectangle\")\n",
    "        elif a == d and b == c:\n",
    "            print(\"Valid Rectangle\")\n",
    "        else:\n",
    "            print(\"Invalid Rectangle\")\n",
    "            \n",
    "sides_tri =list(map(int,input().split()))\n",
    "sides_rect =list(map(int,input().split()))\n",
    "\n",
    "tri = Triangle(sides_tri)\n",
    "tri.validate_triangle()\n",
    "rect = Rectangle(sides_rect)\n",
    "rect.validate_rectangle()"
   ]
  },
  {
   "cell_type": "code",
   "execution_count": null,
   "id": "e8304969",
   "metadata": {},
   "outputs": [],
   "source": []
  }
 ],
 "metadata": {
  "kernelspec": {
   "display_name": "Python 3 (ipykernel)",
   "language": "python",
   "name": "python3"
  },
  "language_info": {
   "codemirror_mode": {
    "name": "ipython",
    "version": 3
   },
   "file_extension": ".py",
   "mimetype": "text/x-python",
   "name": "python",
   "nbconvert_exporter": "python",
   "pygments_lexer": "ipython3",
   "version": "3.9.13"
  }
 },
 "nbformat": 4,
 "nbformat_minor": 5
}
